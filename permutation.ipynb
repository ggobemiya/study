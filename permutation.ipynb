{
 "cells": [
  {
   "cell_type": "code",
   "execution_count": 94,
   "metadata": {},
   "outputs": [],
   "source": [
    "def permutation(arr, r):\n",
    "    # 1.\n",
    "    arr = sorted(arr)\n",
    "    used = [0 for _ in range(len(arr))]\n",
    "\n",
    "    def generate(chosen, used):\n",
    "        # 2.\n",
    "        if len(chosen) == r:\n",
    "            print(chosen)\n",
    "            return\n",
    "\t\n",
    "\t# 3.\n",
    "        for i in range(len(arr)):\n",
    "            if not used[i] and (i == 0 or arr[i-1] != arr[i] or used[i-1]):\n",
    "                chosen.append(arr[i])\n",
    "                used[i] = 1\n",
    "                generate(chosen, used)\n",
    "                used[i] = 0\n",
    "                chosen.pop()\n",
    "    generate([], used)\n",
    "    \n",
    "# 출처 : https://shoark7.github.io/programming/algorithm/Permutations-and-Combinations"
   ]
  },
  {
   "cell_type": "code",
   "execution_count": 95,
   "metadata": {},
   "outputs": [],
   "source": [
    "def permutation(arr, r):\n",
    "    # 1.\n",
    "    arr = sorted(arr)\n",
    "    used = [0 for _ in range(len(arr))]\n",
    "\n",
    "    def generate(chosen, used):\n",
    "        # 2.\n",
    "        \n",
    "        if len(chosen) == r:\n",
    "            print('=-=-=-=-=-=-=-=-=-=-=-=-=-=-=-=-=-=')\n",
    "            print('ANSWER : ', chosen)\n",
    "            print('-=-=-=-=-=-=-=-=-=-=-=-=-=-=-=-=-=-')\n",
    "            return\n",
    "\t\n",
    "\t# 3.\n",
    "        for i in range(len(arr)):\n",
    "            print('for문 시작 : i, used[i] :',i, used[i])\n",
    "            # if = true 일때, if not = false일때이므로, if not은 used[i]가 false 일때, 즉 used[i]=0일 때\n",
    "            if not used[i] and (i == 0 or arr[i-1] != arr[i] or used[i-1]):\n",
    "            # i 가 0일 때:\n",
    "            # i 가 0이면 배열의 첫 원소이기 때문에 바로 쓰면 된다.\n",
    "            # arr[i-1] != arr[i] 일 때:\n",
    "            # 지금은 arr 이 정렬되어 있다. 이때 i 번째 원소가 i-1 번째와 다르면 그냥 ‘B’, ‘C’ 처럼 서로 다른 원소이기 때문에 바로 쓴다.\n",
    "            # used[i-1] 일 때:\n",
    "            # 가령 i 번째 원소가 두 번째 ‘A’이면, 중복을 피하기 위해 첫 번째 ‘A’가 사용된 상태여야만 쓸 수 있다. 그래서 i-1 번째 원소가 쓰인 상태인지 확인한다.\n",
    "                chosen.append(arr[i])\n",
    "                print('chosen append',chosen )\n",
    "                used[i] = 1\n",
    "                print('used a',used)\n",
    "                print('재귀함수 진입')\n",
    "                generate(chosen, used)\n",
    "                print('탈출')\n",
    "                print('chosen',chosen)\n",
    "                used[i] = 0\n",
    "                print('used b',used, i)\n",
    "                chosen.pop()\n",
    "                print('chosen pop',chosen)\n",
    "            else:\n",
    "                print('if문 Pass')\n",
    "        print('for문 끝')\n",
    "        print()\n",
    "    generate([], used)"
   ]
  },
  {
   "cell_type": "code",
   "execution_count": 96,
   "metadata": {},
   "outputs": [
    {
     "name": "stdout",
     "output_type": "stream",
     "text": [
      "for문 시작 : i, used[i] : 0 0\n",
      "chosen append ['A']\n",
      "used a [1, 0, 0, 0]\n",
      "재귀함수 진입\n",
      "for문 시작 : i, used[i] : 0 1\n",
      "if문 Pass\n",
      "for문 시작 : i, used[i] : 1 0\n",
      "chosen append ['A', 'B']\n",
      "used a [1, 1, 0, 0]\n",
      "재귀함수 진입\n",
      "=-=-=-=-=-=-=-=-=-=-=-=-=-=-=-=-=-=\n",
      "ANSWER :  ['A', 'B']\n",
      "-=-=-=-=-=-=-=-=-=-=-=-=-=-=-=-=-=-\n",
      "탈출\n",
      "chosen ['A', 'B']\n",
      "used b [1, 0, 0, 0] 1\n",
      "chosen pop ['A']\n",
      "for문 시작 : i, used[i] : 2 0\n",
      "chosen append ['A', 'C']\n",
      "used a [1, 0, 1, 0]\n",
      "재귀함수 진입\n",
      "=-=-=-=-=-=-=-=-=-=-=-=-=-=-=-=-=-=\n",
      "ANSWER :  ['A', 'C']\n",
      "-=-=-=-=-=-=-=-=-=-=-=-=-=-=-=-=-=-\n",
      "탈출\n",
      "chosen ['A', 'C']\n",
      "used b [1, 0, 0, 0] 2\n",
      "chosen pop ['A']\n",
      "for문 시작 : i, used[i] : 3 0\n",
      "chosen append ['A', 'D']\n",
      "used a [1, 0, 0, 1]\n",
      "재귀함수 진입\n",
      "=-=-=-=-=-=-=-=-=-=-=-=-=-=-=-=-=-=\n",
      "ANSWER :  ['A', 'D']\n",
      "-=-=-=-=-=-=-=-=-=-=-=-=-=-=-=-=-=-\n",
      "탈출\n",
      "chosen ['A', 'D']\n",
      "used b [1, 0, 0, 0] 3\n",
      "chosen pop ['A']\n",
      "for문 끝\n",
      "\n",
      "탈출\n",
      "chosen ['A']\n",
      "used b [0, 0, 0, 0] 0\n",
      "chosen pop []\n",
      "for문 시작 : i, used[i] : 1 0\n",
      "chosen append ['B']\n",
      "used a [0, 1, 0, 0]\n",
      "재귀함수 진입\n",
      "for문 시작 : i, used[i] : 0 0\n",
      "chosen append ['B', 'A']\n",
      "used a [1, 1, 0, 0]\n",
      "재귀함수 진입\n",
      "=-=-=-=-=-=-=-=-=-=-=-=-=-=-=-=-=-=\n",
      "ANSWER :  ['B', 'A']\n",
      "-=-=-=-=-=-=-=-=-=-=-=-=-=-=-=-=-=-\n",
      "탈출\n",
      "chosen ['B', 'A']\n",
      "used b [0, 1, 0, 0] 0\n",
      "chosen pop ['B']\n",
      "for문 시작 : i, used[i] : 1 1\n",
      "if문 Pass\n",
      "for문 시작 : i, used[i] : 2 0\n",
      "chosen append ['B', 'C']\n",
      "used a [0, 1, 1, 0]\n",
      "재귀함수 진입\n",
      "=-=-=-=-=-=-=-=-=-=-=-=-=-=-=-=-=-=\n",
      "ANSWER :  ['B', 'C']\n",
      "-=-=-=-=-=-=-=-=-=-=-=-=-=-=-=-=-=-\n",
      "탈출\n",
      "chosen ['B', 'C']\n",
      "used b [0, 1, 0, 0] 2\n",
      "chosen pop ['B']\n",
      "for문 시작 : i, used[i] : 3 0\n",
      "chosen append ['B', 'D']\n",
      "used a [0, 1, 0, 1]\n",
      "재귀함수 진입\n",
      "=-=-=-=-=-=-=-=-=-=-=-=-=-=-=-=-=-=\n",
      "ANSWER :  ['B', 'D']\n",
      "-=-=-=-=-=-=-=-=-=-=-=-=-=-=-=-=-=-\n",
      "탈출\n",
      "chosen ['B', 'D']\n",
      "used b [0, 1, 0, 0] 3\n",
      "chosen pop ['B']\n",
      "for문 끝\n",
      "\n",
      "탈출\n",
      "chosen ['B']\n",
      "used b [0, 0, 0, 0] 1\n",
      "chosen pop []\n",
      "for문 시작 : i, used[i] : 2 0\n",
      "chosen append ['C']\n",
      "used a [0, 0, 1, 0]\n",
      "재귀함수 진입\n",
      "for문 시작 : i, used[i] : 0 0\n",
      "chosen append ['C', 'A']\n",
      "used a [1, 0, 1, 0]\n",
      "재귀함수 진입\n",
      "=-=-=-=-=-=-=-=-=-=-=-=-=-=-=-=-=-=\n",
      "ANSWER :  ['C', 'A']\n",
      "-=-=-=-=-=-=-=-=-=-=-=-=-=-=-=-=-=-\n",
      "탈출\n",
      "chosen ['C', 'A']\n",
      "used b [0, 0, 1, 0] 0\n",
      "chosen pop ['C']\n",
      "for문 시작 : i, used[i] : 1 0\n",
      "chosen append ['C', 'B']\n",
      "used a [0, 1, 1, 0]\n",
      "재귀함수 진입\n",
      "=-=-=-=-=-=-=-=-=-=-=-=-=-=-=-=-=-=\n",
      "ANSWER :  ['C', 'B']\n",
      "-=-=-=-=-=-=-=-=-=-=-=-=-=-=-=-=-=-\n",
      "탈출\n",
      "chosen ['C', 'B']\n",
      "used b [0, 0, 1, 0] 1\n",
      "chosen pop ['C']\n",
      "for문 시작 : i, used[i] : 2 1\n",
      "if문 Pass\n",
      "for문 시작 : i, used[i] : 3 0\n",
      "chosen append ['C', 'D']\n",
      "used a [0, 0, 1, 1]\n",
      "재귀함수 진입\n",
      "=-=-=-=-=-=-=-=-=-=-=-=-=-=-=-=-=-=\n",
      "ANSWER :  ['C', 'D']\n",
      "-=-=-=-=-=-=-=-=-=-=-=-=-=-=-=-=-=-\n",
      "탈출\n",
      "chosen ['C', 'D']\n",
      "used b [0, 0, 1, 0] 3\n",
      "chosen pop ['C']\n",
      "for문 끝\n",
      "\n",
      "탈출\n",
      "chosen ['C']\n",
      "used b [0, 0, 0, 0] 2\n",
      "chosen pop []\n",
      "for문 시작 : i, used[i] : 3 0\n",
      "chosen append ['D']\n",
      "used a [0, 0, 0, 1]\n",
      "재귀함수 진입\n",
      "for문 시작 : i, used[i] : 0 0\n",
      "chosen append ['D', 'A']\n",
      "used a [1, 0, 0, 1]\n",
      "재귀함수 진입\n",
      "=-=-=-=-=-=-=-=-=-=-=-=-=-=-=-=-=-=\n",
      "ANSWER :  ['D', 'A']\n",
      "-=-=-=-=-=-=-=-=-=-=-=-=-=-=-=-=-=-\n",
      "탈출\n",
      "chosen ['D', 'A']\n",
      "used b [0, 0, 0, 1] 0\n",
      "chosen pop ['D']\n",
      "for문 시작 : i, used[i] : 1 0\n",
      "chosen append ['D', 'B']\n",
      "used a [0, 1, 0, 1]\n",
      "재귀함수 진입\n",
      "=-=-=-=-=-=-=-=-=-=-=-=-=-=-=-=-=-=\n",
      "ANSWER :  ['D', 'B']\n",
      "-=-=-=-=-=-=-=-=-=-=-=-=-=-=-=-=-=-\n",
      "탈출\n",
      "chosen ['D', 'B']\n",
      "used b [0, 0, 0, 1] 1\n",
      "chosen pop ['D']\n",
      "for문 시작 : i, used[i] : 2 0\n",
      "chosen append ['D', 'C']\n",
      "used a [0, 0, 1, 1]\n",
      "재귀함수 진입\n",
      "=-=-=-=-=-=-=-=-=-=-=-=-=-=-=-=-=-=\n",
      "ANSWER :  ['D', 'C']\n",
      "-=-=-=-=-=-=-=-=-=-=-=-=-=-=-=-=-=-\n",
      "탈출\n",
      "chosen ['D', 'C']\n",
      "used b [0, 0, 0, 1] 2\n",
      "chosen pop ['D']\n",
      "for문 시작 : i, used[i] : 3 1\n",
      "if문 Pass\n",
      "for문 끝\n",
      "\n",
      "탈출\n",
      "chosen ['D']\n",
      "used b [0, 0, 0, 0] 3\n",
      "chosen pop []\n",
      "for문 끝\n",
      "\n"
     ]
    }
   ],
   "source": [
    "permutation('ABCD', 2)"
   ]
  },
  {
   "cell_type": "code",
   "execution_count": 8,
   "metadata": {
    "collapsed": true,
    "jupyter": {
     "outputs_hidden": true
    }
   },
   "outputs": [
    {
     "name": "stdout",
     "output_type": "stream",
     "text": [
      "[1, 2, 3]\n",
      "[1, 2, 4]\n",
      "[1, 2, 5]\n",
      "[1, 3, 2]\n",
      "[1, 3, 4]\n",
      "[1, 3, 5]\n",
      "[1, 4, 2]\n",
      "[1, 4, 3]\n",
      "[1, 4, 5]\n",
      "[1, 5, 2]\n",
      "[1, 5, 3]\n",
      "[1, 5, 4]\n",
      "[2, 1, 3]\n",
      "[2, 1, 4]\n",
      "[2, 1, 5]\n",
      "[2, 3, 1]\n",
      "[2, 3, 4]\n",
      "[2, 3, 5]\n",
      "[2, 4, 1]\n",
      "[2, 4, 3]\n",
      "[2, 4, 5]\n",
      "[2, 5, 1]\n",
      "[2, 5, 3]\n",
      "[2, 5, 4]\n",
      "[3, 1, 2]\n",
      "[3, 1, 4]\n",
      "[3, 1, 5]\n",
      "[3, 2, 1]\n",
      "[3, 2, 4]\n",
      "[3, 2, 5]\n",
      "[3, 4, 1]\n",
      "[3, 4, 2]\n",
      "[3, 4, 5]\n",
      "[3, 5, 1]\n",
      "[3, 5, 2]\n",
      "[3, 5, 4]\n",
      "[4, 1, 2]\n",
      "[4, 1, 3]\n",
      "[4, 1, 5]\n",
      "[4, 2, 1]\n",
      "[4, 2, 3]\n",
      "[4, 2, 5]\n",
      "[4, 3, 1]\n",
      "[4, 3, 2]\n",
      "[4, 3, 5]\n",
      "[4, 5, 1]\n",
      "[4, 5, 2]\n",
      "[4, 5, 3]\n",
      "[5, 1, 2]\n",
      "[5, 1, 3]\n",
      "[5, 1, 4]\n",
      "[5, 2, 1]\n",
      "[5, 2, 3]\n",
      "[5, 2, 4]\n",
      "[5, 3, 1]\n",
      "[5, 3, 2]\n",
      "[5, 3, 4]\n",
      "[5, 4, 1]\n",
      "[5, 4, 2]\n",
      "[5, 4, 3]\n"
     ]
    }
   ],
   "source": [
    "permutation([1, 2, 3, 4, 5], 3)"
   ]
  },
  {
   "cell_type": "code",
   "execution_count": 2,
   "metadata": {},
   "outputs": [
    {
     "data": {
      "text/plain": [
       "[1, 2, 3, 4, 5]"
      ]
     },
     "execution_count": 2,
     "metadata": {},
     "output_type": "execute_result"
    }
   ],
   "source": [
    "sorted([1,2,3,4,5])"
   ]
  },
  {
   "cell_type": "code",
   "execution_count": 5,
   "metadata": {},
   "outputs": [
    {
     "data": {
      "text/plain": [
       "[0, 0, 0, 0]"
      ]
     },
     "execution_count": 5,
     "metadata": {},
     "output_type": "execute_result"
    }
   ],
   "source": [
    "used = [0 for _ in range(len(arr))]\n",
    "used"
   ]
  },
  {
   "cell_type": "code",
   "execution_count": 28,
   "metadata": {},
   "outputs": [
    {
     "data": {
      "text/plain": [
       "[1, 2, 3, 4]"
      ]
     },
     "execution_count": 28,
     "metadata": {},
     "output_type": "execute_result"
    }
   ],
   "source": [
    "c = sorted([1,2,3,4,5])\n",
    "c.pop()\n",
    "c"
   ]
  },
  {
   "cell_type": "code",
   "execution_count": 32,
   "metadata": {},
   "outputs": [
    {
     "data": {
      "text/plain": [
       "False"
      ]
     },
     "execution_count": 32,
     "metadata": {},
     "output_type": "execute_result"
    }
   ],
   "source": [
    "b = [0,1,0,1]\n",
    "not b[1]"
   ]
  },
  {
   "cell_type": "code",
   "execution_count": null,
   "metadata": {},
   "outputs": [],
   "source": []
  }
 ],
 "metadata": {
  "kernelspec": {
   "display_name": "jupyter-server",
   "language": "python",
   "name": "jupyter-server"
  },
  "language_info": {
   "codemirror_mode": {
    "name": "ipython",
    "version": 3
   },
   "file_extension": ".py",
   "mimetype": "text/x-python",
   "name": "python",
   "nbconvert_exporter": "python",
   "pygments_lexer": "ipython3",
   "version": "3.8.8"
  }
 },
 "nbformat": 4,
 "nbformat_minor": 4
}
